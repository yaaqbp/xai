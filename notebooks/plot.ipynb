{
 "cells": [
  {
   "cell_type": "code",
   "execution_count": 11,
   "id": "9cacc378",
   "metadata": {},
   "outputs": [],
   "source": [
    "variable_groups_eng = {\n",
    "'FLIGHTS': ['X185',\n",
    "  'X186',\n",
    "  'X187',\n",
    "  'X188',\n",
    "  'X189',\n",
    "  'X190',\n",
    "  'X191',\n",
    "  'X192',\n",
    "  'X193',\n",
    "  'X194'],\n",
    "'FOOD': ['X85',\n",
    "  'X86',\n",
    "  'X87',\n",
    "  'X88',\n",
    "  'X89',\n",
    "  'X90',\n",
    "  'X91',\n",
    "  'X92',\n",
    "  'X93',\n",
    "  'X94',\n",
    "  'X95',\n",
    "  'X96',\n",
    "  'X97',\n",
    "  'X98',\n",
    "  'X99',\n",
    "  'X100',\n",
    "  'X101',\n",
    "  'X102',\n",
    "  'X103',\n",
    "  'X104',\n",
    "  'X135',\n",
    "  'X136',\n",
    "  'X137',\n",
    "  'X138',\n",
    "  'X139',\n",
    "  'X140',\n",
    "  'X141',\n",
    "  'X142',\n",
    "  'X143',\n",
    "  'X144'],\n",
    "'ATM': ['X1',\n",
    "  'X2',\n",
    "  'X3',\n",
    "  'X4',\n",
    "  'X5',\n",
    "  'X6',\n",
    "  'X7'],\n",
    "'HOUSE': ['X8',\n",
    "  'X9',\n",
    "  'X10',\n",
    "  'X11',\n",
    "  'X12',\n",
    "  'X13',\n",
    "  'X14',\n",
    "  'X15',\n",
    "  'X16',\n",
    "  'X17',\n",
    "  'X65',\n",
    "  'X66',\n",
    "  'X67',\n",
    "  'X68',\n",
    "  'X69',\n",
    "  'X70',\n",
    "  'X71',\n",
    "  'X72',\n",
    "  'X73',\n",
    "  'X74',\n",
    "  'X75',\n",
    "  'X76',\n",
    "  'X77',\n",
    "  'X78',\n",
    "  'X79',\n",
    "  'X80',\n",
    "  'X81',\n",
    "  'X82',\n",
    "  'X83',\n",
    "  'X84',\n",
    "  'X115',\n",
    "  'X116',\n",
    "  'X117',\n",
    "  'X118',\n",
    "  'X119',\n",
    "  'X120',\n",
    "  'X121',\n",
    "  'X122',\n",
    "  'X123',\n",
    "  'X124',\n",
    "  'X215',\n",
    "  'X216',\n",
    "  'X217',\n",
    "  'X218',\n",
    "  'X219',\n",
    "  'X220',\n",
    "  'X221',\n",
    "  'X222',\n",
    "  'X223',\n",
    "  'X244',\n",
    "  'X245',\n",
    "  'X246',\n",
    "  'X247',\n",
    "  'X248',\n",
    "  'X249',\n",
    "  'X250',\n",
    "  'X251',\n",
    "  'X252',\n",
    "  'X253',\n",
    "  'X263',\n",
    "  'X264',\n",
    "  'X265',\n",
    "  'X266',\n",
    "  'X267',\n",
    "  'X268',\n",
    "  'X269',\n",
    "  'X270',\n",
    "  'X271',\n",
    "  'X272',\n",
    "  'X293',\n",
    "  'X294',\n",
    "  'X295',\n",
    "  'X296',\n",
    "  'X297',\n",
    "  'X298',\n",
    "  'X299',\n",
    "  'X300',\n",
    "  'X301',\n",
    "  'X302'],\n",
    "'CHILDREN': ['X18',\n",
    "  'X19',\n",
    "  'X20',\n",
    "  'X21',\n",
    "  'X22',\n",
    "  'X23',\n",
    "  'X24',\n",
    "  'X25',\n",
    "  'X26',\n",
    "  'X27',\n",
    "  'X105',\n",
    "  'X106',\n",
    "  'X107',\n",
    "  'X108',\n",
    "  'X109',\n",
    "  'X110',\n",
    "  'X111',\n",
    "  'X112',\n",
    "  'X113',\n",
    "  'X114',\n",
    "  'X303',\n",
    "  'X304',\n",
    "  'X305',\n",
    "  'X306',\n",
    "  'X307',\n",
    "  'X308',\n",
    "  'X309',\n",
    "  'X310',\n",
    "  'X311',\n",
    "  'X312'],\n",
    "'HEALTH': ['X28',\n",
    "  'X29',\n",
    "  'X30',\n",
    "  'X31',\n",
    "  'X32',\n",
    "  'X33',\n",
    "  'X34',\n",
    "  'X35',\n",
    "  'X36',\n",
    "  'X37'],\n",
    "'CAR': ['X38',\n",
    "  'X39',\n",
    "  'X40',\n",
    "  'X41',\n",
    "  'X42',\n",
    "  'X43',\n",
    "  'X44',\n",
    "  'X45',\n",
    "  'X46',\n",
    "  'X47'],\n",
    "'GENERAL_OUTCOME': ['X48',\n",
    "  'X49',\n",
    "  'X50',\n",
    "  'X51',\n",
    "  'X52',\n",
    "  'X53',\n",
    "  'X54'],\n",
    "'CULTURE': ['X55',\n",
    "  'X56',\n",
    "  'X57',\n",
    "  'X58',\n",
    "  'X59',\n",
    "  'X60',\n",
    "  'X61',\n",
    "  'X62',\n",
    "  'X63',\n",
    "  'X64',\n",
    "  'X125',\n",
    "  'X126',\n",
    "  'X127',\n",
    "  'X128',\n",
    "  'X129',\n",
    "  'X130',\n",
    "  'X131',\n",
    "  'X132',\n",
    "  'X133',\n",
    "  'X134',\n",
    "  'X145',\n",
    "  'X146',\n",
    "  'X147',\n",
    "  'X148',\n",
    "  'X149',\n",
    "  'X150',\n",
    "  'X151',\n",
    "  'X152',\n",
    "  'X153',\n",
    "  'X154',\n",
    "  'X155',\n",
    "  'X156',\n",
    "  'X157',\n",
    "  'X158',\n",
    "  'X159',\n",
    "  'X160',\n",
    "  'X161',\n",
    "  'X162',\n",
    "  'X163',\n",
    "  'X164',\n",
    "  'X165',\n",
    "  'X166',\n",
    "  'X167',\n",
    "  'X168',\n",
    "  'X169',\n",
    "  'X170',\n",
    "  'X171',\n",
    "  'X172',\n",
    "  'X173',\n",
    "  'X174',\n",
    "  'X175',\n",
    "  'X176',\n",
    "  'X177',\n",
    "  'X178',\n",
    "  'X179',\n",
    "  'X180',\n",
    "  'X181',\n",
    "  'X182',\n",
    "  'X183',\n",
    "  'X184',\n",
    "  'X254',\n",
    "  'X255',\n",
    "  'X256',\n",
    "  'X257',\n",
    "  'X258',\n",
    "  'X259',\n",
    "  'X260',\n",
    "  'X261',\n",
    "  'X262',\n",
    "  'X273',\n",
    "  'X274',\n",
    "  'X275',\n",
    "  'X276',\n",
    "  'X277',\n",
    "  'X278',\n",
    "  'X279',\n",
    "  'X280',\n",
    "  'X281',\n",
    "  'X282',\n",
    "  'X283',\n",
    "  'X284',\n",
    "  'X285',\n",
    "  'X286',\n",
    "  'X287',\n",
    "  'X288',\n",
    "  'X289',\n",
    "  'X290',\n",
    "  'X291',\n",
    "  'X292',\n",
    "  'X313',\n",
    "  'X314',\n",
    "  'X315',\n",
    "  'X316',\n",
    "  'X317',\n",
    "  'X318',\n",
    "  'X319',\n",
    "  'X320',\n",
    "  'X321',\n",
    "  'X322',\n",
    "  'X332',\n",
    "  'X333',\n",
    "  'X334',\n",
    "  'X335',\n",
    "  'X336',\n",
    "  'X337',\n",
    "  'X338',\n",
    "  'X339',\n",
    "  'X340',\n",
    "  'X341'],\n",
    " 'GENERAL_INCOME': [\n",
    "  'X365',\n",
    "  'X366',\n",
    "  'X367',\n",
    "  'X368',\n",
    "  'X369',\n",
    "  'X370',\n",
    "  'X371',\n",
    "  'X372',\n",
    "  'X373',\n",
    "  'X374',\n",
    "  'X375',\n",
    "  'X376',\n",
    "  'X377',\n",
    "  'X378',\n",
    "     'X351',\n",
    "  'X352',\n",
    "  'X353',\n",
    "  'X354',\n",
    "  'X355',\n",
    "  'X356',\n",
    "  'X357'],\n",
    "'SALARY': ['X358',\n",
    "  'X359',\n",
    "  'X360',\n",
    "  'X361',\n",
    "  'X362',\n",
    "  'X363',\n",
    "  'X364',\n",
    "  'X379',\n",
    "  'X380',\n",
    "  'X381',\n",
    "  'X382',\n",
    "  'X383',\n",
    "  'X384',\n",
    "  'X385'],\n",
    "'AGE': ['X386']\n",
    "                   }"
   ]
  },
  {
   "cell_type": "code",
   "execution_count": 12,
   "id": "900c9924",
   "metadata": {},
   "outputs": [],
   "source": [
    "import sys\n",
    "sys.path.append(\"..\")"
   ]
  },
  {
   "cell_type": "code",
   "execution_count": 2,
   "id": "1b3e3a4a",
   "metadata": {},
   "outputs": [
    {
     "name": "stderr",
     "output_type": "stream",
     "text": [
      "/home/qba/anaconda3/lib/python3.8/site-packages/xgboost/compat.py:36: FutureWarning: pandas.Int64Index is deprecated and will be removed from pandas in a future version. Use pandas.Index with the appropriate dtype instead.\n",
      "  from pandas import MultiIndex, Int64Index\n"
     ]
    }
   ],
   "source": [
    "import dalex as dx\n",
    "import pandas as pd\n",
    "import xgboost\n",
    "from src.data.make_processed_dataset_NEW import train_test_split_by_income\n",
    "from src.models.metrics import wpe_10\n",
    "from src.utils import seed_everything, read_data\n",
    "import seaborn as sns\n",
    "import matplotlib.pyplot as plt\n",
    "import plotly.express as px\n",
    "import numpy as np"
   ]
  },
  {
   "cell_type": "code",
   "execution_count": 3,
   "id": "12a7b634",
   "metadata": {},
   "outputs": [],
   "source": [
    "SEED = seed_everything(357)"
   ]
  },
  {
   "cell_type": "code",
   "execution_count": 4,
   "id": "f6ea9234",
   "metadata": {},
   "outputs": [],
   "source": [
    "model = xgboost.XGBRegressor()\n",
    "model.load_model('../models/xgboost.json')"
   ]
  },
  {
   "cell_type": "code",
   "execution_count": 8,
   "id": "f02ca697",
   "metadata": {},
   "outputs": [],
   "source": [
    "X_train, y_train = read_data(\"../data/processed/data_train_NEW.csv\")\n",
    "X_val, y_val = read_data(\"../data/processed/data_val_NEW.csv\")\n",
    "\n",
    "X_train = pd.concat([X_train, X_val])\n",
    "y_train = pd.concat([y_train, y_val])\n",
    "\n",
    "data_train = X_train\n",
    "data_train['Y'] = y_train\n",
    "\n",
    "data_train, data_val = train_test_split_by_income(data_train, test_size=0.10)\n",
    "\n",
    "X_train = data_train.drop('Y', axis=1)\n",
    "y_train = data_train['Y']\n",
    "\n",
    "X_test = data_val.drop('Y', axis=1)\n",
    "y_test = data_val['Y']\n",
    "\n",
    "X_test, y_test = read_data(\"../data/processed/data_test_NEW.csv\")"
   ]
  },
  {
   "cell_type": "code",
   "execution_count": 17,
   "id": "7928a353",
   "metadata": {},
   "outputs": [],
   "source": [
    "sum_general_income = X_train[variable_groups_eng['GENERAL_INCOME']].sum(axis = 1)"
   ]
  },
  {
   "cell_type": "code",
   "execution_count": 22,
   "id": "02da1c72",
   "metadata": {},
   "outputs": [],
   "source": [
    "import seaborn as sns\n",
    "import matplotlib.pyplot as plt\n",
    "sns.set_theme()"
   ]
  },
  {
   "cell_type": "code",
   "execution_count": 32,
   "id": "e80fd903",
   "metadata": {},
   "outputs": [
    {
     "data": {
      "text/plain": [
       "Text(0, 0.5, 'true income')"
      ]
     },
     "execution_count": 32,
     "metadata": {},
     "output_type": "execute_result"
    },
    {
     "data": {
      "image/png": "[encoded data removed]",
      "text/plain": [
       "<Figure size 432x288 with 1 Axes>"
      ]
     },
     "metadata": {},
     "output_type": "display_data"
    }
   ],
   "source": [
    "fig, ax = plt.subplots()\n",
    "ax = sns.scatterplot(x = sum_general_income, y = y_train)\n",
    "ax.set_xlabel('sum of general income')\n",
    "#ax.set_xticks([])\n",
    "#ax.set_yticks([])\n",
    "ax.set_ylabel('true income')"
   ]
  },
  {
   "cell_type": "code",
   "execution_count": 33,
   "id": "f3c9c402",
   "metadata": {},
   "outputs": [],
   "source": []
  },
  {
   "cell_type": "code",
   "execution_count": 35,
   "id": "0eeebead",
   "metadata": {},
   "outputs": [],
   "source": []
  },
  {
   "cell_type": "code",
   "execution_count": 43,
   "id": "869ccf7f",
   "metadata": {},
   "outputs": [],
   "source": []
  },
  {
   "cell_type": "code",
   "execution_count": 44,
   "id": "c4a39526",
   "metadata": {},
   "outputs": [
    {
     "data": {
      "text/plain": [
       "Text(0, 0.5, 'true income')"
      ]
     },
     "execution_count": 44,
     "metadata": {},
     "output_type": "execute_result"
    },
    {
     "data": {
      "image/png": "[encoded data removed]",
      "text/plain": [
       "<Figure size 432x288 with 1 Axes>"
      ]
     },
     "metadata": {},
     "output_type": "display_data"
    }
   ],
   "source": [
    "fig, ax = plt.subplots()\n",
    "ax = sns.scatterplot(x = xy['sum'], y = xy['true_income'])\n",
    "ax.set_xlabel('sum of general income')\n",
    "#ax.set_xticks([])\n",
    "#ax.set_yticks([])\n",
    "ax.set_ylabel('true income')"
   ]
  },
  {
   "cell_type": "code",
   "execution_count": 56,
   "id": "15474ecc",
   "metadata": {},
   "outputs": [],
   "source": [
    "xy = pd.DataFrame()\n",
    "xy['sum'] = sum_general_income\n",
    "xy['true_income'] = y_train\n",
    "#xy.sort_values(by = 'sum', inplace = True)\n",
    "xy['diff'] = xy['sum'] - xy['true_income']\n",
    "xy = xy.reset_index(drop = True)"
   ]
  },
  {
   "cell_type": "code",
   "execution_count": 60,
   "id": "66e5bdc6",
   "metadata": {},
   "outputs": [
    {
     "name": "stderr",
     "output_type": "stream",
     "text": [
      "/home/qba/anaconda3/lib/python3.8/site-packages/seaborn/_decorators.py:36: FutureWarning: Pass the following variables as keyword args: x, y. From version 0.12, the only valid positional argument will be `data`, and passing other arguments without an explicit keyword will result in an error or misinterpretation.\n",
      "  warnings.warn(\n"
     ]
    },
    {
     "data": {
      "text/plain": [
       "Text(0, 0.5, 'difference')"
      ]
     },
     "execution_count": 60,
     "metadata": {},
     "output_type": "execute_result"
    },
    {
     "data": {
      "image/png": "[encoded data removed]",
      "text/plain": [
       "<Figure size 432x288 with 1 Axes>"
      ]
     },
     "metadata": {},
     "output_type": "display_data"
    }
   ],
   "source": [
    "fig, ax = plt.subplots()\n",
    "ax = sns.scatterplot(xy['sum'], xy['diff'])\n",
    "ax.set_xlabel('sum of general income')\n",
    "#ax.set_xticks([])\n",
    "#ax.set_yticks([])\n",
    "ax.set_ylabel('difference')"
   ]
  },
  {
   "cell_type": "code",
   "execution_count": 66,
   "id": "ccdff079",
   "metadata": {},
   "outputs": [],
   "source": [
    "data1 = [41.2,31.1,6.7,21]\n",
    "labels1 = ['Correct','Incorrect','Changed correctly','Changed incorrectly']\n",
    "colors = [\"#8bdcbe\", \"#f05a71\", \"#371ea3\", \"#46bac2\", \"#ffa58c\"]\n"
   ]
  },
  {
   "cell_type": "code",
   "execution_count": null,
   "id": "5a2ac9d7",
   "metadata": {},
   "outputs": [],
   "source": []
  },
  {
   "cell_type": "code",
   "execution_count": 67,
   "id": "06b7b746",
   "metadata": {},
   "outputs": [
    {
     "data": {
      "image/png": "[encoded data removed]",
      "text/plain": [
       "<Figure size 432x288 with 1 Axes>"
      ]
     },
     "metadata": {},
     "output_type": "display_data"
    }
   ],
   "source": [
    "import matplotlib.pyplot as plt\n",
    "import seaborn as sns\n",
    "\n",
    "#define data\n",
    "#define Seaborn color palette to use\n",
    "colors = sns.color_palette('pastel')[0:5]\n",
    "\n",
    "#create pie chart\n",
    "plt.pie(data1, labels = labels1, colors = colors, autopct='%.0f%%')\n",
    "plt.show()"
   ]
  },
  {
   "cell_type": "code",
   "execution_count": null,
   "id": "0e4d21b0",
   "metadata": {},
   "outputs": [],
   "source": []
  }
 ],
 "metadata": {
  "kernelspec": {
   "display_name": "Python 3 XAI",
   "language": "python",
   "name": "xai"
  },
  "language_info": {
   "codemirror_mode": {
    "name": "ipython",
    "version": 3
   },
   "file_extension": ".py",
   "mimetype": "text/x-python",
   "name": "python",
   "nbconvert_exporter": "python",
   "pygments_lexer": "ipython3",
   "version": "3.8.12"
  }
 },
 "nbformat": 4,
 "nbformat_minor": 5
}
